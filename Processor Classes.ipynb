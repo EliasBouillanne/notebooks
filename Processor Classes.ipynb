{
 "cells": [
  {
   "cell_type": "markdown",
   "metadata": {},
   "source": [
    "## TODO\n",
    "\n",
    "- Create augmented dataset from all datasets\n",
    "- Train on all datasets.\n",
    "- Save dataset\n",
    "- Freeze top layers\n",
    "- Train lower layers on full dataset. "
   ]
  },
  {
   "cell_type": "code",
   "execution_count": 87,
   "metadata": {},
   "outputs": [],
   "source": [
    "import os\n",
    "import random\n",
    "\n",
    "import numpy as np\n",
    "import cv2\n",
    "from PIL import Image\n",
    "\n",
    "import donkeybarn as barn"
   ]
  },
  {
   "cell_type": "code",
   "execution_count": 88,
   "metadata": {},
   "outputs": [],
   "source": [
    "class AugmentPipeline:\n",
    "    def __init__(self, data):\n",
    "        self.data = data.copy()\n",
    "        self.pipeline = []\n",
    "        \n",
    "    def add(self, processor, input_ix=[0, ], chance=.2):\n",
    "        self.pipeline.append(\n",
    "            {'processor': processor,\n",
    "             'input_ix': input_ix,\n",
    "             'chance': chance})\n",
    "        \n",
    "    def run(self, gen_count=None):\n",
    "        \n",
    "        if gen_count==None:\n",
    "            gen_count = len(self.data)\n",
    "            \n",
    "        results = []\n",
    "        \n",
    "        #get row of data\n",
    "        for i in range(gen_count): \n",
    "            row_num = np.random.randint(0,len(self.data))\n",
    "            row = self.data[row_num].copy()\n",
    "            \n",
    "            #run row of data through pipeline\n",
    "            for p in self.pipeline:\n",
    "                \n",
    "                #only run pipeline step if chance test succedes\n",
    "                if p['chance'] > random.random():\n",
    "            \n",
    "                    #get inputs\n",
    "                    inputs = []\n",
    "                    for input_ix in p['input_ix']:\n",
    "                        inputs.append(row[input_ix])\n",
    "                    \n",
    "                    #run processor\n",
    "                    result = p['processor'].run(inputs)\n",
    "                    \n",
    "                    for i, output_ix in enumerate(p['input_ix']):\n",
    "                        row[output_ix] = result[i]\n",
    "            \n",
    "            results.append(row)\n",
    "        \n",
    "        results = np.stack(results)        \n",
    "        return results"
   ]
  },
  {
   "cell_type": "code",
   "execution_count": 110,
   "metadata": {},
   "outputs": [
    {
     "data": {
      "text/plain": [
       "array([[ 1.,  2.,  3.,  4.,  5.,  6.,  7.,  8.,  9., 10.],\n",
       "       [71., 72., 73., 74., 75., 76., 77., 78., 79., 80.],\n",
       "       [ 1.,  2.,  3.,  4.,  5.,  6.,  7.,  8.,  9., 10.],\n",
       "       [31., 32.,  0., 34., 35., 36., 37., 38., 39., 40.],\n",
       "       [61., 62., 63., 64., 65., 66., 67., 68., 69., 70.],\n",
       "       [11., 12.,  0., 14., 15., 16., 17., 18., 19., 20.],\n",
       "       [71., 72., 73., 74., 75., 76., 77., 78., 79., 80.],\n",
       "       [41., 42., 43., 44., 45., 46., 47., 48., 49., 50.],\n",
       "       [51., 52., 53., 54., 55., 56., 57., 58., 59., 60.],\n",
       "       [11., 12., 13., 14., 15., 16., 17., 18., 19., 20.]])"
      ]
     },
     "execution_count": 110,
     "metadata": {},
     "output_type": "execute_result"
    }
   ],
   "source": [
    "class ToOneProcessor(barn.cv.augment.BaseProcessor):\n",
    "    def run_arr(self, x):\n",
    "        return 0\n",
    "    \n",
    "bp = barn.cv.augment.BaseProcessor()    \n",
    "one = ToOneProcessor()\n",
    "\n",
    "data = np.linspace(1,100,num=100).reshape((10,10))\n",
    "\n",
    "apipe = AugmentPipeline(data)\n",
    "apipe.add(bp,input_ix=[8], chance=1 )\n",
    "apipe.add(one, input_ix=[2], chance=.6)\n",
    "apipe.run()"
   ]
  },
  {
   "cell_type": "markdown",
   "metadata": {},
   "source": [
    "### Load Real Data"
   ]
  },
  {
   "cell_type": "code",
   "execution_count": 62,
   "metadata": {},
   "outputs": [
    {
     "name": "stdout",
     "output_type": "stream",
     "text": [
      "File already exists.\n"
     ]
    }
   ],
   "source": [
    "#location where to save datasets\n",
    "data_dir = os.path.expanduser('~/donkey_data')\n",
    "\n",
    "#track_data = barn.datasets.DriveaiLabeled.load(data_dir = data_dir)\n",
    "track_data = barn.datasets.MakerFaireLabeled.load(data_dir = data_dir)\n",
    "#load camera model to undistort and do birdseye perspective\n",
    "fe = barn.cv.camera.FishEyeCamera(**barn.configs.donkey2_camera_params)\n",
    "\n",
    "#load image labels\n",
    "label_json_path = os.path.join(track_data.base_dir, 'labels.json')\n",
    "data= barn.datasets.LabelBoxData(label_json_path)\n",
    "data.gen_external_key_index()"
   ]
  },
  {
   "cell_type": "markdown",
   "metadata": {},
   "source": [
    "### Calculate lane coefficients from labled data"
   ]
  },
  {
   "cell_type": "code",
   "execution_count": 74,
   "metadata": {},
   "outputs": [
    {
     "data": {
      "text/plain": [
       "(281, 2)"
      ]
     },
     "execution_count": 74,
     "metadata": {},
     "output_type": "execute_result"
    }
   ],
   "source": [
    "X = []\n",
    "for ix in range(len(track_data.img_paths)):\n",
    "    img_name = os.path.basename(track_data.img_paths[ix])\n",
    "    img = np.array(Image.open(track_data.img_paths[ix]))\n",
    "\n",
    "    mask = np.array(data.get_mask_from_key(img_name, 'Center Line'))\n",
    "    mask_undistorted = fe.undistort(mask)\n",
    "    mask_birdseye = fe.birdseye(mask_undistorted)\n",
    "\n",
    "    #output the coefficients of the line [c2, c1, c0] such that \n",
    "    # c2*x**2 + c1*x + c0 = y\n",
    "    coef = barn.cv.lanes.find_line_coef_from_mask(mask_birdseye)\n",
    "    X.append([img, coef])\n",
    "    \n",
    "X_arr = np.array(X)\n",
    "\n",
    "#output [[img_arr, coef], ]\n",
    "X_arr.shape"
   ]
  },
  {
   "cell_type": "markdown",
   "metadata": {},
   "source": [
    "###  Create the augmented training set"
   ]
  },
  {
   "cell_type": "code",
   "execution_count": 78,
   "metadata": {},
   "outputs": [],
   "source": [
    "flp = barn.cv.augment.RandomFlip(func_on_flip=barn.cv.lanes.flip_line_coef)\n",
    "rec = barn.cv.augment.RandomRectangles()\n",
    "blur = barn.cv.augment.RandomBlur()\n",
    "bright = barn.cv.augment.RandomBrightness()\n",
    "\n",
    "# format (instance, mapping of array columns)\n",
    "apipe = AugmentPipeline(X_arr)\n",
    "apipe.add(flp, input_ix=[0,1], chance=.5)\n",
    "apipe.add(rec, input_ix=[0], chance =.3)\n",
    "apipe.add(blur, input_ix=[0], chance=.3)\n",
    "X_aug = apipe.run(gen_count=100)"
   ]
  },
  {
   "cell_type": "code",
   "execution_count": 79,
   "metadata": {},
   "outputs": [
    {
     "data": {
      "text/plain": [
       "(100,)"
      ]
     },
     "execution_count": 79,
     "metadata": {},
     "output_type": "execute_result"
    }
   ],
   "source": [
    "#separate the input and target datasets\n",
    "Y = X_aug[:, 1]\n",
    "X = X_aug[:, 0]\n",
    "X.shape"
   ]
  },
  {
   "cell_type": "code",
   "execution_count": 81,
   "metadata": {},
   "outputs": [],
   "source": [
    "ix = 90\n",
    "img = X[ix]\n",
    "img_undist = fe.undistort(img)\n",
    "img_birdseye = fe.birdseye(img_undist)\n",
    "coef = Y[ix]\n",
    "img_with_lines = barn.cv.draw.line_from_coef(img_birdseye, coef )"
   ]
  },
  {
   "cell_type": "code",
   "execution_count": 82,
   "metadata": {},
   "outputs": [
    {
     "data": {
      "image/png": "[encoded data removed]",
      "text/plain": [
       "<PIL.Image.Image image mode=RGB size=160x120 at 0x7FEACFD92908>"
      ]
     },
     "execution_count": 82,
     "metadata": {},
     "output_type": "execute_result"
    }
   ],
   "source": [
    "Image.fromarray(img_with_lines)"
   ]
  },
  {
   "cell_type": "markdown",
   "metadata": {},
   "source": [
    "### confirm the the line was flipped "
   ]
  },
  {
   "cell_type": "code",
   "execution_count": 84,
   "metadata": {},
   "outputs": [
    {
     "data": {
      "image/png": "[encoded data removed]",
      "text/plain": [
       "<PIL.Image.Image image mode=RGB size=160x120 at 0x7FEACFD923C8>"
      ]
     },
     "execution_count": 84,
     "metadata": {},
     "output_type": "execute_result"
    }
   ],
   "source": [
    "coef_rev = barn.cv.lanes.flip_line_coef(coef)\n",
    "arr = barn.cv.draw.line_from_coef(img_birdseye, coef_rev)\n",
    "arr = barn.cv.draw.line_from_coef(arr, coef)\n",
    "Image.fromarray(arr)"
   ]
  },
  {
   "cell_type": "code",
   "execution_count": 85,
   "metadata": {},
   "outputs": [
    {
     "data": {
      "image/png": "[encoded data removed]",
      "text/plain": [
       "<PIL.Image.Image image mode=RGB size=160x120 at 0x7FEACFD92B00>"
      ]
     },
     "execution_count": 85,
     "metadata": {},
     "output_type": "execute_result"
    }
   ],
   "source": [
    "arr2 = cv2.drawMarker(arr, (50,50), color=(255,255, 255))\n",
    "Image.fromarray(arr2)"
   ]
  }
 ],
 "metadata": {
  "kernelspec": {
   "display_name": "Python 3",
   "language": "python",
   "name": "python3"
  },
  "language_info": {
   "codemirror_mode": {
    "name": "ipython",
    "version": 3
   },
   "file_extension": ".py",
   "mimetype": "text/x-python",
   "name": "python",
   "nbconvert_exporter": "python",
   "pygments_lexer": "ipython3",
   "version": "3.6.5"
  }
 },
 "nbformat": 4,
 "nbformat_minor": 2
}
