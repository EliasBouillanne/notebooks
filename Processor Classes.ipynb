{
 "cells": [
  {
   "cell_type": "code",
   "execution_count": 1,
   "metadata": {},
   "outputs": [],
   "source": [
    "import numpy as np\n",
    "from PIL import Image"
   ]
  },
  {
   "cell_type": "code",
   "execution_count": 2,
   "metadata": {},
   "outputs": [],
   "source": [
    "import random\n",
    "import cv2\n",
    "import numpy as np\n",
    "\n",
    "import donkeybarn as barn\n",
    "import os"
   ]
  },
  {
   "cell_type": "code",
   "execution_count": 3,
   "metadata": {},
   "outputs": [],
   "source": [
    "class AugmentPipeline:\n",
    "    def __init__(self, data):\n",
    "        self.data = data.copy()\n",
    "        self.pipeline = []\n",
    "        \n",
    "    def add(self, processor, input_ix=[0, ], chance=.2):\n",
    "        self.pipeline.append(\n",
    "            {'processor': processor,\n",
    "             'input_ix': input_ix,\n",
    "             'chance': chance})\n",
    "        \n",
    "    def run(self, gen_count=None):\n",
    "        \n",
    "        if gen_count==None:\n",
    "            gen_count = len(self.data)\n",
    "            \n",
    "        results = []\n",
    "        \n",
    "        #get row of data\n",
    "        for i in range(gen_count): \n",
    "            row_num = np.random.randint(0,len(self.data))\n",
    "        \n",
    "            row = self.data[row_num].copy()\n",
    "            \n",
    "            #run row of data through pipeline\n",
    "            for p in self.pipeline:\n",
    "                \n",
    "                #only run pipeline step if chance test succedes\n",
    "                if p['chance'] > random.random():\n",
    "            \n",
    "                    #get inputs\n",
    "                    inputs = []\n",
    "                    for input_ix in p['input_ix']:\n",
    "                        inputs.append(row[input_ix])\n",
    "                    \n",
    "                    #run processor\n",
    "                    result = p['processor'].run(inputs)\n",
    "                    \n",
    "                    for i, output_ix in enumerate(p['input_ix']):\n",
    "                        row[output_ix] = result[i]\n",
    "            \n",
    "            results.append(row)\n",
    "        \n",
    "        results = np.stack(results)        \n",
    "        return results"
   ]
  },
  {
   "cell_type": "code",
   "execution_count": null,
   "metadata": {},
   "outputs": [],
   "source": []
  },
  {
   "cell_type": "code",
   "execution_count": null,
   "metadata": {},
   "outputs": [],
   "source": []
  },
  {
   "cell_type": "code",
   "execution_count": 4,
   "metadata": {},
   "outputs": [
    {
     "data": {
      "text/plain": [
       "array([[  1.,   2.,   3.,   4.,   1.,   6.,   7.,   8.,   9.,  10.],\n",
       "       [ 41.,  42.,  43.,  44.,   1.,  46.,  47.,  48.,  49.,  50.],\n",
       "       [ 91.,  92.,  93.,  94.,   1.,  96.,  97.,  98.,  99., 100.],\n",
       "       [ 61.,  62.,  63.,  64.,   1.,  66.,  67.,  68.,  69.,  70.],\n",
       "       [ 11.,  12.,  13.,  14.,   1.,  16.,  17.,  18.,  19.,  20.],\n",
       "       [ 81.,  82.,  83.,  84.,   1.,  86.,  87.,  88.,  89.,  90.],\n",
       "       [ 51.,  52.,  53.,  54.,   1.,  56.,  57.,  58.,  59.,  60.],\n",
       "       [ 31.,  32.,  33.,  34.,   1.,  36.,  37.,  38.,  39.,  40.],\n",
       "       [ 61.,  62.,  63.,  64.,   1.,  66.,  67.,  68.,  69.,  70.],\n",
       "       [ 51.,  52.,  53.,  54.,   1.,  56.,  57.,  58.,  59.,  60.]])"
      ]
     },
     "execution_count": 4,
     "metadata": {},
     "output_type": "execute_result"
    }
   ],
   "source": [
    "bp = barn.cv.augment.BaseProcessor()\n",
    "\n",
    "class ToOneProcessor(barn.cv.augment.BaseProcessor):\n",
    "    def run_arr(self, x):\n",
    "        return 1\n",
    "one = ToOneProcessor()\n",
    "\n",
    "\n",
    "data = np.linspace(1,100,num=100).reshape((10,10))\n",
    "\n",
    "apipe = AugmentPipeline(data)\n",
    "apipe.add(bp,input_ix=[8], chance=1 )\n",
    "apipe.add(one, input_ix=[4], chance=1)\n",
    "apipe.run()\n",
    "\n"
   ]
  },
  {
   "cell_type": "code",
   "execution_count": null,
   "metadata": {},
   "outputs": [],
   "source": []
  },
  {
   "cell_type": "code",
   "execution_count": 5,
   "metadata": {},
   "outputs": [
    {
     "name": "stdout",
     "output_type": "stream",
     "text": [
      "/home/wroscoe/donkey/donkeybarn/donkeybarn/__init__.py\n",
      "File already exists.\n"
     ]
    }
   ],
   "source": [
    "#download and load dataset\n",
    "\n",
    "\n",
    "#location where to save datasets\n",
    "data_dir = os.path.expanduser('~/donkey_data')\n",
    "\n",
    "print(barn.__file__)\n",
    "\n",
    "#track_data = barn.datasets.DriveaiLabeled.load(data_dir = data_dir)\n",
    "track_data = barn.datasets.MakerFaireLabeled.load(data_dir = data_dir)\n",
    "#load camera model to undistort and do birdseye perspective\n",
    "fe = barn.cv.camera.FishEyeCamera(**barn.configs.donkey2_camera_params)\n",
    "\n",
    "#load image labels\n",
    "label_json_path = os.path.join(track_data.base_dir, 'labels.json')\n",
    "data= barn.datasets.LabelBoxData(label_json_path)\n",
    "data.gen_external_key_index()"
   ]
  },
  {
   "cell_type": "code",
   "execution_count": 6,
   "metadata": {},
   "outputs": [],
   "source": [
    "X = []\n",
    "for ix in range(len(track_data.img_paths)):\n",
    "    img_name = os.path.basename(track_data.img_paths[ix])\n",
    "    img = np.array(Image.open(track_data.img_paths[ix]))\n",
    "\n",
    "    mask = np.array(data.get_mask_from_key(img_name, 'Center Line'))\n",
    "    mask_undistorted = fe.undistort(mask)\n",
    "    mask_birdseye = fe.birdseye(mask_undistorted)\n",
    "\n",
    "    #output the coefficients of the line [c2, c1, c0] such that \n",
    "    # c2*x**2 + c1*x + c0 = y\n",
    "    coef = barn.cv.lanes.find_line_coef_from_mask(mask_birdseye)\n",
    "    X.append([img, coef])"
   ]
  },
  {
   "cell_type": "code",
   "execution_count": 7,
   "metadata": {},
   "outputs": [],
   "source": [
    "X_arr = np.array(X)"
   ]
  },
  {
   "cell_type": "code",
   "execution_count": 8,
   "metadata": {},
   "outputs": [
    {
     "data": {
      "text/plain": [
       "(3,)"
      ]
     },
     "execution_count": 8,
     "metadata": {},
     "output_type": "execute_result"
    }
   ],
   "source": [
    "X_arr[1][1].shape"
   ]
  },
  {
   "cell_type": "code",
   "execution_count": null,
   "metadata": {},
   "outputs": [],
   "source": []
  },
  {
   "cell_type": "code",
   "execution_count": 9,
   "metadata": {},
   "outputs": [],
   "source": [
    "flp = barn.cv.augment.RandomFlip(func_on_flip=barn.cv.lanes.flip_line_coef)\n",
    "rec = barn.cv.augment.RandomRectangles()\n",
    "blur = barn.cv.augment.RandomBlur()\n",
    "bright = barn.cv.augment.RandomBrightness()\n",
    "\n",
    "# format (chance, instance, mapping of array columns)\n",
    "     \n",
    "apipe = AugmentPipeline(X)\n",
    "apipe.add(flp, input_ix=[0,1])\n",
    "apipe.add(rec, input_ix=[0] )\n",
    "apipe.add(blur, input_ix=[0])\n",
    "X_aug = apipe.run(gen_count=5)\n",
    "\n"
   ]
  },
  {
   "cell_type": "code",
   "execution_count": 14,
   "metadata": {},
   "outputs": [],
   "source": [
    "Y = X_aug[:, 1]\n",
    "X = X_aug[:, 0]"
   ]
  },
  {
   "cell_type": "code",
   "execution_count": 22,
   "metadata": {},
   "outputs": [
    {
     "ename": "IndexError",
     "evalue": "index 6 is out of bounds for axis 0 with size 5",
     "output_type": "error",
     "traceback": [
      "\u001b[0;31m---------------------------------------------------------------------------\u001b[0m",
      "\u001b[0;31mIndexError\u001b[0m                                Traceback (most recent call last)",
      "\u001b[0;32m<ipython-input-22-4baf403fd16b>\u001b[0m in \u001b[0;36m<module>\u001b[0;34m()\u001b[0m\n\u001b[1;32m      1\u001b[0m \u001b[0mix\u001b[0m \u001b[0;34m=\u001b[0m \u001b[0;36m6\u001b[0m\u001b[0;34m\u001b[0m\u001b[0m\n\u001b[0;32m----> 2\u001b[0;31m \u001b[0mimg\u001b[0m \u001b[0;34m=\u001b[0m \u001b[0mX\u001b[0m\u001b[0;34m[\u001b[0m\u001b[0mix\u001b[0m\u001b[0;34m]\u001b[0m\u001b[0;34m\u001b[0m\u001b[0m\n\u001b[0m\u001b[1;32m      3\u001b[0m \u001b[0mimg_undist\u001b[0m \u001b[0;34m=\u001b[0m \u001b[0mfe\u001b[0m\u001b[0;34m.\u001b[0m\u001b[0mundistort\u001b[0m\u001b[0;34m(\u001b[0m\u001b[0mimg\u001b[0m\u001b[0;34m)\u001b[0m\u001b[0;34m\u001b[0m\u001b[0m\n\u001b[1;32m      4\u001b[0m \u001b[0mimg_birdseye\u001b[0m \u001b[0;34m=\u001b[0m \u001b[0mfe\u001b[0m\u001b[0;34m.\u001b[0m\u001b[0mbirdseye\u001b[0m\u001b[0;34m(\u001b[0m\u001b[0mimg_undist\u001b[0m\u001b[0;34m)\u001b[0m\u001b[0;34m\u001b[0m\u001b[0m\n\u001b[1;32m      5\u001b[0m \u001b[0mcoef\u001b[0m \u001b[0;34m=\u001b[0m \u001b[0mY\u001b[0m\u001b[0;34m[\u001b[0m\u001b[0mix\u001b[0m\u001b[0;34m]\u001b[0m\u001b[0;34m\u001b[0m\u001b[0m\n",
      "\u001b[0;31mIndexError\u001b[0m: index 6 is out of bounds for axis 0 with size 5"
     ]
    }
   ],
   "source": [
    "ix = 6\n",
    "img = X[ix]\n",
    "img_undist = fe.undistort(img)\n",
    "img_birdseye = fe.birdseye(img_undist)\n",
    "coef = Y[ix]\n",
    "img_with_lines = barn.cv.draw.line_from_coef(img_birdseye, coef )"
   ]
  },
  {
   "cell_type": "code",
   "execution_count": 23,
   "metadata": {},
   "outputs": [
    {
     "data": {
      "image/png": "[encoded data removed]",
      "text/plain": [
       "<PIL.Image.Image image mode=RGB size=160x120 at 0x7F8D334A83C8>"
      ]
     },
     "execution_count": 23,
     "metadata": {},
     "output_type": "execute_result"
    }
   ],
   "source": [
    "Image.fromarray(img_with_lines)"
   ]
  },
  {
   "cell_type": "code",
   "execution_count": 13,
   "metadata": {},
   "outputs": [
    {
     "data": {
      "text/plain": [
       "array([array([-3.03030303e-04, -4.13636364e-01,  1.04863636e+02]),\n",
       "       array([-1.40151515e-03,  2.97727273e-01,  9.57736742e+01]),\n",
       "       array([-4.16666667e-04,  3.72619048e-01,  3.99866071e+01]),\n",
       "       array([-2.43589744e-03,  4.36130536e-01,  7.65445804e+01]),\n",
       "       array([ 2.97202797e-03, -3.87412587e-01,  1.01170455e+02])],\n",
       "      dtype=object)"
      ]
     },
     "execution_count": 13,
     "metadata": {},
     "output_type": "execute_result"
    }
   ],
   "source": [
    "Y"
   ]
  },
  {
   "cell_type": "code",
   "execution_count": 10,
   "metadata": {},
   "outputs": [],
   "source": [
    "x, y = (1,2,)"
   ]
  },
  {
   "cell_type": "code",
   "execution_count": null,
   "metadata": {},
   "outputs": [],
   "source": []
  },
  {
   "cell_type": "code",
   "execution_count": 20,
   "metadata": {},
   "outputs": [
    {
     "data": {
      "text/plain": [
       "array([0., 0.])"
      ]
     },
     "execution_count": 20,
     "metadata": {},
     "output_type": "execute_result"
    }
   ],
   "source": [
    "np.take(np.zeros(3), [0,1])"
   ]
  },
  {
   "cell_type": "code",
   "execution_count": null,
   "metadata": {},
   "outputs": [],
   "source": [
    "apipe = AugmentPipeline()"
   ]
  },
  {
   "cell_type": "code",
   "execution_count": 11,
   "metadata": {},
   "outputs": [
    {
     "name": "stdout",
     "output_type": "stream",
     "text": [
      "(120, 160, 3)\n"
     ]
    },
    {
     "ename": "TypeError",
     "evalue": "run() takes 2 positional arguments but 3 were given",
     "output_type": "error",
     "traceback": [
      "\u001b[0;31m---------------------------------------------------------------------------\u001b[0m",
      "\u001b[0;31mTypeError\u001b[0m                                 Traceback (most recent call last)",
      "\u001b[0;32m<ipython-input-11-277b7aa841a5>\u001b[0m in \u001b[0;36m<module>\u001b[0;34m()\u001b[0m\n\u001b[1;32m      3\u001b[0m \u001b[0mprint\u001b[0m\u001b[0;34m(\u001b[0m\u001b[0marr\u001b[0m\u001b[0;34m.\u001b[0m\u001b[0mshape\u001b[0m\u001b[0;34m)\u001b[0m\u001b[0;34m\u001b[0m\u001b[0m\n\u001b[1;32m      4\u001b[0m \u001b[0mx\u001b[0m\u001b[0;34m,\u001b[0m \u001b[0my\u001b[0m \u001b[0;34m=\u001b[0m \u001b[0mflp\u001b[0m\u001b[0;34m.\u001b[0m\u001b[0mrun\u001b[0m\u001b[0;34m(\u001b[0m\u001b[0marr\u001b[0m\u001b[0;34m,\u001b[0m \u001b[0;36m1\u001b[0m\u001b[0;34m)\u001b[0m\u001b[0;34m\u001b[0m\u001b[0m\n\u001b[0;32m----> 5\u001b[0;31m \u001b[0mx\u001b[0m\u001b[0;34m,\u001b[0m \u001b[0my\u001b[0m \u001b[0;34m=\u001b[0m \u001b[0mrec\u001b[0m\u001b[0;34m.\u001b[0m\u001b[0mrun\u001b[0m\u001b[0;34m(\u001b[0m\u001b[0mx\u001b[0m\u001b[0;34m,\u001b[0m \u001b[0my\u001b[0m\u001b[0;34m)\u001b[0m\u001b[0;34m\u001b[0m\u001b[0m\n\u001b[0m\u001b[1;32m      6\u001b[0m \u001b[0mx\u001b[0m\u001b[0;34m,\u001b[0m \u001b[0my\u001b[0m \u001b[0;34m=\u001b[0m \u001b[0mblur\u001b[0m\u001b[0;34m.\u001b[0m\u001b[0mrun\u001b[0m\u001b[0;34m(\u001b[0m\u001b[0mx\u001b[0m\u001b[0;34m,\u001b[0m \u001b[0my\u001b[0m\u001b[0;34m)\u001b[0m\u001b[0;34m\u001b[0m\u001b[0m\n\u001b[1;32m      7\u001b[0m \u001b[0mx\u001b[0m\u001b[0;34m,\u001b[0m \u001b[0my\u001b[0m \u001b[0;34m=\u001b[0m \u001b[0mbright\u001b[0m\u001b[0;34m.\u001b[0m\u001b[0mrun\u001b[0m\u001b[0;34m(\u001b[0m\u001b[0mx\u001b[0m\u001b[0;34m,\u001b[0m \u001b[0my\u001b[0m\u001b[0;34m)\u001b[0m\u001b[0;34m\u001b[0m\u001b[0m\n",
      "\u001b[0;31mTypeError\u001b[0m: run() takes 2 positional arguments but 3 were given"
     ]
    }
   ],
   "source": [
    "img = Image.open('/home/wroscoe/donkey_data/track_2/1001_cam-image_array_.jpg')\n",
    "arr = np.array(img)\n",
    "print(arr.shape)\n",
    "x, y = flp.run(arr, 1)\n",
    "x, y = rec.run(x, y)\n",
    "x, y = blur.run(x, y)\n",
    "x, y = bright.run(x, y)\n",
    "img = Image.fromarray(x)"
   ]
  },
  {
   "cell_type": "code",
   "execution_count": 12,
   "metadata": {},
   "outputs": [
    {
     "name": "stdout",
     "output_type": "stream",
     "text": [
      "/home/wroscoe/donkey/donkeybarn/donkeybarn/__init__.py\n",
      "File already exists.\n"
     ]
    }
   ],
   "source": []
  },
  {
   "cell_type": "code",
   "execution_count": 14,
   "metadata": {},
   "outputs": [],
   "source": [
    "ix  = 200\n",
    "img_name = os.path.basename(track_data.img_paths[ix])\n",
    "img = np.array(Image.open(track_data.img_paths[ix]))\n",
    "\n",
    "img_undistort = fe.undistort(img)\n",
    "img_bird = fe.birdseye(img_undistort)\n",
    "\n",
    "mask = np.array(data.get_mask_from_key(img_name, 'Center Line'))\n",
    "mask_undistorted = fe.undistort(mask)\n",
    "mask_birdseye = fe.birdseye(mask_undistorted)\n",
    "\n",
    "#output the coefficients of the line [c2, c1, c0] such that \n",
    "# c2*x**2 + c1*x + c0 = y\n",
    "coef = barn.cv.lanes.find_line_coef_from_mask(mask_birdseye)"
   ]
  },
  {
   "cell_type": "code",
   "execution_count": 94,
   "metadata": {},
   "outputs": [
    {
     "data": {
      "text/plain": [
       "array([ 3.49650350e-04, -1.16363636e-01,  7.72821678e+01])"
      ]
     },
     "execution_count": 94,
     "metadata": {},
     "output_type": "execute_result"
    }
   ],
   "source": [
    "coef\n",
    "\n"
   ]
  },
  {
   "cell_type": "code",
   "execution_count": 95,
   "metadata": {},
   "outputs": [],
   "source": []
  },
  {
   "cell_type": "code",
   "execution_count": 96,
   "metadata": {},
   "outputs": [],
   "source": [
    "coef_rev = flip_line_coef(coef)"
   ]
  },
  {
   "cell_type": "code",
   "execution_count": 97,
   "metadata": {},
   "outputs": [
    {
     "data": {
      "image/png": "[encoded data removed]",
      "text/plain": [
       "<PIL.Image.Image image mode=RGB size=160x120 at 0x7F8F20466FD0>"
      ]
     },
     "execution_count": 97,
     "metadata": {},
     "output_type": "execute_result"
    }
   ],
   "source": [
    "arr = barn.cv.draw.line_from_coef(img_bird, coef_rev)\n",
    "arr = barn.cv.draw.line_from_coef(arr, coef)\n",
    "Image.fromarray(arr)"
   ]
  },
  {
   "cell_type": "code",
   "execution_count": 107,
   "metadata": {},
   "outputs": [],
   "source": [
    "arr2 = cv2.drawMarker(arr, (50,50), color=(255,255, 255))"
   ]
  },
  {
   "cell_type": "code",
   "execution_count": 108,
   "metadata": {},
   "outputs": [
    {
     "data": {
      "image/png": "[encoded data removed]",
      "text/plain": [
       "<PIL.Image.Image image mode=RGB size=160x120 at 0x7F8F20457588>"
      ]
     },
     "execution_count": 108,
     "metadata": {},
     "output_type": "execute_result"
    }
   ],
   "source": [
    "Image.fromarray(arr2)"
   ]
  },
  {
   "cell_type": "code",
   "execution_count": null,
   "metadata": {},
   "outputs": [],
   "source": [
    "np.polyint"
   ]
  },
  {
   "cell_type": "code",
   "execution_count": null,
   "metadata": {},
   "outputs": [],
   "source": []
  },
  {
   "cell_type": "code",
   "execution_count": 119,
   "metadata": {},
   "outputs": [],
   "source": [
    "\n",
    "\n",
    "\n",
    "\n",
    "\n",
    "\n",
    "\n",
    "\n",
    "\n",
    "\n",
    "    \n",
    "def augment_images(arr):\n",
    "cv2.rectangle(arr, tl, br, color, -1)    arr = add_rectangles(arr, n=4)\n",
    "    arr = random_blur(arr, probability=.2, min_kernal_size=2, max_kernal_size=4)\n",
    "    arr = random_brightness(arr)\n",
    "    return arr\n"
   ]
  }
 ],
 "metadata": {
  "kernelspec": {
   "display_name": "Python 3",
   "language": "python",
   "name": "python3"
  },
  "language_info": {
   "codemirror_mode": {
    "name": "ipython",
    "version": 3
   },
   "file_extension": ".py",
   "mimetype": "text/x-python",
   "name": "python",
   "nbconvert_exporter": "python",
   "pygments_lexer": "ipython3",
   "version": "3.6.5"
  }
 },
 "nbformat": 4,
 "nbformat_minor": 2
}
