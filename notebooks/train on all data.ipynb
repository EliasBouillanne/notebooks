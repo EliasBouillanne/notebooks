{
 "cells": [
  {
   "cell_type": "code",
   "execution_count": 45,
   "metadata": {},
   "outputs": [
    {
     "name": "stdout",
     "output_type": "stream",
     "text": [
      "using donkey v2.5.1 ...\n"
     ]
    }
   ],
   "source": [
    "import os\n",
    "import numpy as np\n",
    "import tensorflow as tf\n",
    "import h5py\n",
    "import donkeycar as dk\n",
    "from donkeycar.parts.datastore import TubGroup, Tub"
   ]
  },
  {
   "cell_type": "code",
   "execution_count": 2,
   "metadata": {},
   "outputs": [],
   "source": [
    "data_dir = os.path.expanduser('/home/wroscoe/data/diyrobocar_races/')\n",
    "hf_path = os.path.expanduser('~/data/all_tubs.h5')"
   ]
  },
  {
   "cell_type": "markdown",
   "metadata": {},
   "source": [
    "### READ h5 dataset"
   ]
  },
  {
   "cell_type": "code",
   "execution_count": 33,
   "metadata": {},
   "outputs": [],
   "source": [
    "hf_path = os.path.expanduser('~/data/all_tubs.h5')\n",
    "hf = h5py.File(hf_path, 'r')"
   ]
  },
  {
   "cell_type": "code",
   "execution_count": 34,
   "metadata": {},
   "outputs": [
    {
     "data": {
      "text/plain": [
       "(2621, 120, 160, 3)"
      ]
     },
     "execution_count": 34,
     "metadata": {},
     "output_type": "execute_result"
    }
   ],
   "source": [
    "hf['cam/image_array'].shape"
   ]
  },
  {
   "cell_type": "code",
   "execution_count": 49,
   "metadata": {},
   "outputs": [],
   "source": [
    "hf.close()"
   ]
  },
  {
   "cell_type": "code",
   "execution_count": 50,
   "metadata": {},
   "outputs": [],
   "source": [
    "tub_paths = ['/home/wroscoe/data/diyrobocar_races/2018-05_google_io/tub_24_18-05-08',\n",
    " '/home/wroscoe/data/diyrobocar_races/2018-05_google_io/tub_29_18-05-08',\n",
    " '/home/wroscoe/data/diyrobocar_races/2018-05_google_io/tub_11_18-05-09',\n",
    " '/home/wroscoe/data/diyrobocar_races/2018-05_google_io/google_io_tub3_rev',\n",
    " '/home/wroscoe/data/diyrobocar_races/2018-05_google_io/tub_28_18-05-08',\n",
    " '/home/wroscoe/data/diyrobocar_races/2018-05_google_io/google_io_tub6',\n",
    " '/home/wroscoe/data/diyrobocar_races/2018-05_google_io/google_io_tub20_right',\n",
    " '/home/wroscoe/data/diyrobocar_races/2018-05_google_io/google_io_tub5',\n",
    " '/home/wroscoe/data/diyrobocar_races/2018-05_google_io/google_io_tub4',\n",
    " '/home/wroscoe/data/diyrobocar_races/2018-05_google_io/google_io_tub2',\n",
    " '/home/wroscoe/data/diyrobocar_races/2018-05_google_io/tub_25_18-05-08',\n",
    " '/home/wroscoe/data/diyrobocar_races/2018-05_google_io/tub_9_18-05-09',\n",
    " '/home/wroscoe/data/diyrobocar_races/2018-05_google_io/google_io_tub8',\n",
    " '/home/wroscoe/data/diyrobocar_races/2018-05_google_io/google_io_tub1',\n",
    " '/home/wroscoe/data/diyrobocar_races/2018-05_google_io/tub_27_18-05-08',\n",
    " '/home/wroscoe/data/diyrobocar_races/2018-05_google_io/google_io_tub7',\n",
    " '/home/wroscoe/data/diyrobocar_races/2018-06_diyrobo_driveai/driveai_data4',\n",
    " '/home/wroscoe/data/diyrobocar_races/2018-06_diyrobo_driveai/driveai_data1',\n",
    " '/home/wroscoe/data/diyrobocar_races/2018-06_diyrobo_driveai/driveai_data3',\n",
    " '/home/wroscoe/data/diyrobocar_races/2018-06_diyrobo_driveai/driveai_data2',\n",
    " '/home/wroscoe/data/diyrobocar_races/2018-03_diyrobo_american_steel/tub_wroscoe_american_steel_3_18',\n",
    " '/home/wroscoe/data/diyrobocar_races/2018-03_diyrobo_american_steel/tub_2_18-03-17',\n",
    " '/home/wroscoe/data/diyrobocar_races/2018-03_aws_reinvent/tub_1_17-11-28',\n",
    " '/home/wroscoe/data/diyrobocar_races/2018-05_mapbox_locate/ltub2',\n",
    " '/home/wroscoe/data/diyrobocar_races/2018-05_mapbox_locate/ltub',\n",
    " '/home/wroscoe/data/diyrobocar_races/2018-08_diyrobo_american_steel/aug_oak_data2',\n",
    " '/home/wroscoe/data/diyrobocar_races/2018-08_diyrobo_american_steel/aug_oak_data3',\n",
    " '/home/wroscoe/data/diyrobocar_races/2018-08_diyrobo_american_steel/aug_oak_data3/tub',\n",
    " '/home/wroscoe/data/diyrobocar_races/2018-08_diyrobo_american_steel/aug_oak_data1',\n",
    " '/home/wroscoe/data/diyrobocar_races/2018-08_diyrobo_american_steel/aug_oak_data4',\n",
    " '/home/wroscoe/data/diyrobocar_races/2018-01_diyrobo_american_steel/tub_24_18-01-20',\n",
    " '/home/wroscoe/data/diyrobocar_races/2018-05_san_mateo_maker_faire/tub_6_18-05-19',\n",
    " '/home/wroscoe/data/diyrobocar_races/2018-05_san_mateo_maker_faire/tub3',\n",
    " '/home/wroscoe/data/diyrobocar_races/2018-05_san_mateo_maker_faire/tub2',\n",
    " '/home/wroscoe/data/diyrobocar_races/2018-05_san_mateo_maker_faire/tub_8_18-05-19',\n",
    " '/home/wroscoe/data/diyrobocar_races/2018-05_san_mateo_maker_faire/tub1',\n",
    " '/home/wroscoe/data/diyrobocar_races/2018-05_sea_hackathon/tub_seattle',\n",
    " '/home/wroscoe/data/diyrobocar_races/2018-05_sea_hackathon/tub_1_18-05-18']"
   ]
  },
  {
   "cell_type": "code",
   "execution_count": 51,
   "metadata": {},
   "outputs": [
    {
     "data": {
      "text/plain": [
       "38"
      ]
     },
     "execution_count": 51,
     "metadata": {},
     "output_type": "execute_result"
    }
   ],
   "source": [
    "len(tub_paths)"
   ]
  },
  {
   "cell_type": "code",
   "execution_count": 52,
   "metadata": {},
   "outputs": [],
   "source": []
  },
  {
   "cell_type": "markdown",
   "metadata": {},
   "source": [
    "### Save tubs to h5 dataset"
   ]
  },
  {
   "cell_type": "code",
   "execution_count": 53,
   "metadata": {},
   "outputs": [],
   "source": [
    "def add_data_to_hf(hf, dataset_name, arr):\n",
    "    ds = hf.get(dataset_name)\n",
    "    if ds is None:\n",
    "        hf.create_dataset(dataset_name, data=arr, maxshape=(None,)+arr.shape[1:])\n",
    "    else:\n",
    "        ds.resize((ds.shape[0] + arr.shape[0]), axis=0)\n",
    "        ds[-arr.shape[0]:] = arr\n",
    "        \n",
    "        \n",
    "    "
   ]
  },
  {
   "cell_type": "code",
   "execution_count": 54,
   "metadata": {},
   "outputs": [
    {
     "name": "stdout",
     "output_type": "stream",
     "text": [
      "starting: /home/wroscoe/data/diyrobocar_races/2018-05_google_io/tub_24_18-05-08\n",
      "rows: (9836, 120, 160, 3)\n",
      "starting: /home/wroscoe/data/diyrobocar_races/2018-05_google_io/tub_29_18-05-08\n",
      "rows: (11285, 120, 160, 3)\n",
      "starting: /home/wroscoe/data/diyrobocar_races/2018-05_google_io/tub_11_18-05-09\n",
      "rows: (6091, 120, 160, 3)\n",
      "starting: /home/wroscoe/data/diyrobocar_races/2018-05_google_io/google_io_tub3_rev\n",
      "rows: (3524, 120, 160, 3)\n",
      "starting: /home/wroscoe/data/diyrobocar_races/2018-05_google_io/tub_28_18-05-08\n",
      "rows: (2607, 120, 160, 3)\n",
      "starting: /home/wroscoe/data/diyrobocar_races/2018-05_google_io/google_io_tub6\n",
      "rows: (367, 120, 160, 3)\n",
      "starting: /home/wroscoe/data/diyrobocar_races/2018-05_google_io/google_io_tub20_right\n",
      "rows: (11285, 120, 160, 3)\n",
      "starting: /home/wroscoe/data/diyrobocar_races/2018-05_google_io/google_io_tub5\n",
      "rows: (2248, 120, 160, 3)\n",
      "starting: /home/wroscoe/data/diyrobocar_races/2018-05_google_io/google_io_tub4\n",
      "rows: (5650, 120, 160, 3)\n",
      "starting: /home/wroscoe/data/diyrobocar_races/2018-05_google_io/google_io_tub2\n",
      "rows: (11029, 120, 160, 3)\n",
      "starting: /home/wroscoe/data/diyrobocar_races/2018-05_google_io/tub_25_18-05-08\n",
      "rows: (11580, 120, 160, 3)\n",
      "starting: /home/wroscoe/data/diyrobocar_races/2018-05_google_io/tub_9_18-05-09\n",
      "rows: (14047, 120, 160, 3)\n",
      "starting: /home/wroscoe/data/diyrobocar_races/2018-05_google_io/google_io_tub8\n",
      "rows: (18703, 120, 160, 3)\n",
      "starting: /home/wroscoe/data/diyrobocar_races/2018-05_google_io/google_io_tub1\n",
      "rows: (9159, 120, 160, 3)\n",
      "starting: /home/wroscoe/data/diyrobocar_races/2018-05_google_io/tub_27_18-05-08\n",
      "rows: (2573, 120, 160, 3)\n",
      "starting: /home/wroscoe/data/diyrobocar_races/2018-05_google_io/google_io_tub7\n",
      "rows: (2621, 120, 160, 3)\n",
      "starting: /home/wroscoe/data/diyrobocar_races/2018-06_diyrobo_driveai/driveai_data4\n",
      "rows: (7407, 120, 160, 3)\n",
      "starting: /home/wroscoe/data/diyrobocar_races/2018-06_diyrobo_driveai/driveai_data1\n",
      "rows: (2078, 120, 160, 3)\n",
      "starting: /home/wroscoe/data/diyrobocar_races/2018-06_diyrobo_driveai/driveai_data3\n",
      "rows: (20195, 120, 160, 3)\n",
      "starting: /home/wroscoe/data/diyrobocar_races/2018-06_diyrobo_driveai/driveai_data2\n",
      "rows: (7407, 120, 160, 3)\n",
      "starting: /home/wroscoe/data/diyrobocar_races/2018-03_diyrobo_american_steel/tub_wroscoe_american_steel_3_18\n",
      "rows: (5863, 120, 160, 3)\n",
      "starting: /home/wroscoe/data/diyrobocar_races/2018-03_diyrobo_american_steel/tub_2_18-03-17\n",
      "rows: (5990, 120, 160, 3)\n",
      "starting: /home/wroscoe/data/diyrobocar_races/2018-03_aws_reinvent/tub_1_17-11-28\n",
      "rows: (9538, 120, 160, 3)\n",
      "starting: /home/wroscoe/data/diyrobocar_races/2018-05_mapbox_locate/ltub2\n",
      "rows: (4117, 120, 160, 3)\n",
      "starting: /home/wroscoe/data/diyrobocar_races/2018-05_mapbox_locate/ltub\n",
      "rows: (6017, 120, 160, 3)\n",
      "starting: /home/wroscoe/data/diyrobocar_races/2018-08_diyrobo_american_steel/aug_oak_data2\n",
      "rows: (8236, 120, 160, 3)\n",
      "starting: /home/wroscoe/data/diyrobocar_races/2018-08_diyrobo_american_steel/aug_oak_data3\n",
      "rows: (6235, 120, 160, 3)\n",
      "starting: /home/wroscoe/data/diyrobocar_races/2018-08_diyrobo_american_steel/aug_oak_data3/tub\n",
      "rows: (11052, 120, 160, 3)\n",
      "starting: /home/wroscoe/data/diyrobocar_races/2018-08_diyrobo_american_steel/aug_oak_data1\n",
      "rows: (8088, 120, 160, 3)\n",
      "starting: /home/wroscoe/data/diyrobocar_races/2018-08_diyrobo_american_steel/aug_oak_data4\n",
      "rows: (2635, 120, 160, 3)\n",
      "starting: /home/wroscoe/data/diyrobocar_races/2018-01_diyrobo_american_steel/tub_24_18-01-20\n",
      "rows: (1254, 120, 160, 3)\n",
      "starting: /home/wroscoe/data/diyrobocar_races/2018-05_san_mateo_maker_faire/tub_6_18-05-19\n",
      "rows: (5547, 120, 160, 3)\n",
      "starting: /home/wroscoe/data/diyrobocar_races/2018-05_san_mateo_maker_faire/tub3\n",
      "rows: (9952, 120, 160, 3)\n",
      "starting: /home/wroscoe/data/diyrobocar_races/2018-05_san_mateo_maker_faire/tub2\n",
      "rows: (5547, 120, 160, 3)\n",
      "starting: /home/wroscoe/data/diyrobocar_races/2018-05_san_mateo_maker_faire/tub_8_18-05-19\n",
      "rows: (9952, 120, 160, 3)\n",
      "starting: /home/wroscoe/data/diyrobocar_races/2018-05_san_mateo_maker_faire/tub1\n",
      "rows: (7126, 120, 160, 3)\n",
      "starting: /home/wroscoe/data/diyrobocar_races/2018-05_sea_hackathon/tub_seattle\n",
      "rows: (8948, 120, 160, 3)\n",
      "starting: /home/wroscoe/data/diyrobocar_races/2018-05_sea_hackathon/tub_1_18-05-18\n",
      "rows: (8948, 120, 160, 3)\n",
      "total_rows:284737\n"
     ]
    },
    {
     "data": {
      "text/plain": [
       "set()"
      ]
     },
     "execution_count": 54,
     "metadata": {},
     "output_type": "execute_result"
    }
   ],
   "source": [
    "import h5py\n",
    "os.remove(hf_path)\n",
    "hf = h5py.File(hf_path, 'w')\n",
    "\n",
    "row_count = []\n",
    "\n",
    "for path in tub_paths:\n",
    "    \n",
    "    print('starting: {}'.format(path))\n",
    "    tub = Tub(path)\n",
    "    data_dict = next(tub.get_batch_gen(batch_size = len(tub.get_index())))\n",
    "    \n",
    "    img = data_dict['cam/image_array']\n",
    "    ang = data_dict['user/angle']\n",
    "    thr = data_dict['user/throttle']\n",
    "    #print()\n",
    "    \n",
    "    #z = np.concatenate((img, ang, thr), axis=2)\n",
    "    \n",
    "    assert len(set([img.shape[0], ang.shape[0], thr.shape[0]])) == 1 \n",
    "    row_count.append(img.shape[0])\n",
    "    \n",
    "    add_data_to_hf(hf, 'cam/image_array', img)\n",
    "    add_data_to_hf(hf, 'user/angle', ang)\n",
    "    add_data_to_hf(hf, 'user/throttle', thr)\n",
    "    \n",
    "    print('rows: {}'.format(img.shape))\n",
    "\n",
    "    \n",
    "print('total_rows:{}'.format(sum(row_count)))\n",
    "\n",
    "set()"
   ]
  },
  {
   "cell_type": "code",
   "execution_count": 35,
   "metadata": {},
   "outputs": [],
   "source": [
    "import donkeycar"
   ]
  },
  {
   "cell_type": "code",
   "execution_count": 36,
   "metadata": {},
   "outputs": [],
   "source": [
    "from donkeycar.parts.keras import KerasLinear"
   ]
  },
  {
   "cell_type": "code",
   "execution_count": 37,
   "metadata": {},
   "outputs": [],
   "source": [
    "kl = KerasLinear()"
   ]
  },
  {
   "cell_type": "code",
   "execution_count": null,
   "metadata": {},
   "outputs": [],
   "source": [
    "kl.train()"
   ]
  },
  {
   "cell_type": "code",
   "execution_count": 38,
   "metadata": {},
   "outputs": [],
   "source": [
    "hf_path = os.path.expanduser('~/data/test.h5')\n",
    "hf = h5py.File(hf_path, 'w')"
   ]
  },
  {
   "cell_type": "code",
   "execution_count": 39,
   "metadata": {},
   "outputs": [],
   "source": [
    "grp = hf.create_group('data')"
   ]
  },
  {
   "cell_type": "code",
   "execution_count": 40,
   "metadata": {},
   "outputs": [],
   "source": [
    "path = '/home/wroscoe/data/diyrobocar_races/2018-05_san_mateo_maker_faire/tub3'\n",
    "tub = Tub(path)\n",
    "data_dict = next(tub.get_batch_gen(batch_size = len(tub.get_index())))\n",
    "\n",
    "img = data_dict['cam/image_array']\n",
    "ang = data_dict['user/angle']\n",
    "thr = data_dict['user/throttle']"
   ]
  },
  {
   "cell_type": "code",
   "execution_count": 41,
   "metadata": {},
   "outputs": [
    {
     "data": {
      "text/plain": [
       "<HDF5 dataset \"img\": shape (9952, 120, 160, 3), type \"|u1\">"
      ]
     },
     "execution_count": 41,
     "metadata": {},
     "output_type": "execute_result"
    }
   ],
   "source": [
    "grp.create_dataset('img', data=img)"
   ]
  },
  {
   "cell_type": "code",
   "execution_count": 44,
   "metadata": {},
   "outputs": [
    {
     "data": {
      "text/plain": [
       "(120, 160, 3)"
      ]
     },
     "execution_count": 44,
     "metadata": {},
     "output_type": "execute_result"
    }
   ],
   "source": [
    "grp['img'][1].shape"
   ]
  },
  {
   "cell_type": "code",
   "execution_count": 45,
   "metadata": {},
   "outputs": [
    {
     "data": {
      "text/plain": [
       "<HDF5 dataset \"ang\": shape (9952,), type \"<f8\">"
      ]
     },
     "execution_count": 45,
     "metadata": {},
     "output_type": "execute_result"
    }
   ],
   "source": [
    "grp.create_dataset('ang', data=ang)"
   ]
  },
  {
   "cell_type": "code",
   "execution_count": 55,
   "metadata": {},
   "outputs": [],
   "source": []
  },
  {
   "cell_type": "code",
   "execution_count": 25,
   "metadata": {},
   "outputs": [
    {
     "name": "stdout",
     "output_type": "stream",
     "text": [
      "pygame 1.9.4\n",
      "Hello from the pygame community. https://www.pygame.org/contribute.html\n",
      "/home/wroscoe/code/donkey/donkeybarn/donkeybarn/__init__.py\n"
     ]
    }
   ],
   "source": [
    "import os\n",
    "import json\n",
    "import numpy as np\n",
    "import cv2\n",
    "import matplotlib.pyplot as plt\n",
    "import glob\n",
    "from PIL import Image, ImageDraw\n",
    "%matplotlib inline\n",
    "\n",
    "from sklearn.preprocessing import MinMaxScaler\n",
    "from sklearn.externals import joblib\n",
    "\n",
    "from tensorflow.python.keras.layers import Input, BatchNormalization\n",
    "from tensorflow.python.keras.models import Model, load_model\n",
    "from tensorflow.python.keras.layers import Convolution2D\n",
    "from tensorflow.python.keras.layers import Dropout, Flatten, Dense\n",
    "\n",
    "from moviepy.editor import *\n",
    "import glob\n",
    "\n",
    "import donkeybarn as barn\n",
    "\n",
    "#location where to save datasets\n",
    "data_dir = os.path.expanduser('~/donkey_data')\n",
    "\n",
    "print(barn.__file__)"
   ]
  },
  {
   "cell_type": "code",
   "execution_count": 26,
   "metadata": {},
   "outputs": [],
   "source": [
    "def default_linear():\n",
    "    img_in = Input(shape=(120, 160, 3), name='img_in')\n",
    "    x = img_in\n",
    "\n",
    "    # Convolution2D class name is an alias for Conv2D\n",
    "    x = BatchNormalization()(x)\n",
    "    x = Convolution2D(filters=16, kernel_size=(5, 5), strides=(2, 2), activation='relu')(x)\n",
    "    x = Convolution2D(filters=24, kernel_size=(5, 5), strides=(2, 2), activation='relu')(x)\n",
    "    x = Convolution2D(filters=32, kernel_size=(5, 5), strides=(2, 2), activation='relu')(x)\n",
    "    x = Convolution2D(filters=64, kernel_size=(3, 3), strides=(2, 2), activation='relu')(x)\n",
    "\n",
    "    x = Flatten(name='flattened')(x)\n",
    "    x = Dense(units=100, activation='linear')(x)\n",
    "    x = Dropout(rate=.1)(x)\n",
    "    x = Dense(units=50, activation='linear')(x)\n",
    "    x = Dropout(rate=.1)(x)\n",
    "    # categorical output of the angle\n",
    "    angle_out = Dense(units=1, activation='linear', name='angle_out')(x)\n",
    "\n",
    "    # continous output of throttle\n",
    "    throttle_out = Dense(units=1, activation='linear', name='throttle_out')(x)\n",
    "\n",
    "    model = Model(inputs=[img_in], outputs=[angle_out, throttle_out])\n",
    "\n",
    "    model.compile(optimizer='adam',\n",
    "                  loss={'angle_out': 'mean_squared_error',\n",
    "                        'throttle_out': 'mean_squared_error'},\n",
    "                  loss_weights={'angle_out': 0.5, 'throttle_out': .5})\n",
    "\n",
    "    return model"
   ]
  },
  {
   "cell_type": "code",
   "execution_count": 3,
   "metadata": {},
   "outputs": [],
   "source": [
    "hf_path = os.path.expanduser('/home/wroscoe/data/all_tubs_safe.h5')\n",
    "hf = h5py.File(hf_path, 'r')"
   ]
  },
  {
   "cell_type": "code",
   "execution_count": 4,
   "metadata": {},
   "outputs": [],
   "source": [
    "X = hf['cam/image_array'][:]\n",
    "ang = hf['user/angle'][:]\n",
    "thr = hf['user/throttle'][:]"
   ]
  },
  {
   "cell_type": "code",
   "execution_count": 29,
   "metadata": {},
   "outputs": [],
   "source": [
    "np.random.seed(42)\n",
    "np.random.shuffle(X)\n",
    "np.random.seed(42)\n",
    "np.random.shuffle(ang)\n",
    "np.random.seed(42)\n",
    "np.random.shuffle(thr)"
   ]
  },
  {
   "cell_type": "code",
   "execution_count": 22,
   "metadata": {},
   "outputs": [
    {
     "name": "stdout",
     "output_type": "stream",
     "text": [
      "[[2 2]\n",
      " [4 4]\n",
      " [1 1]\n",
      " [3 3]]\n",
      "[2 4 1 3]\n"
     ]
    }
   ],
   "source": [
    "np.random.seed(42)\n",
    "a = np.array([[1,1], [2,2], [3,3], [4,4]])\n",
    "b = np.array([1,2,3,4])\n",
    "\n",
    "np.random.shuffle(a)\n",
    "np.random.shuffle(b)\n",
    "print(a)\n",
    "print(b)"
   ]
  },
  {
   "cell_type": "code",
   "execution_count": 40,
   "metadata": {},
   "outputs": [],
   "source": [
    "hf_path = os.path.expanduser('/home/wroscoe/data/all_tubs_shuffled.h5')\n",
    "hf2 = h5py.File(hf_path, 'w')\n",
    "hf2.create_dataset('cam/image_array', data=X)\n",
    "hf2.create_dataset('user/angle', data=ang)\n",
    "hf2.create_dataset('user/throttle', data=thr)\n",
    "hf2.close()"
   ]
  },
  {
   "cell_type": "code",
   "execution_count": 30,
   "metadata": {},
   "outputs": [],
   "source": [
    "Y = {'angle_out': ang, 'throttle_out': thr}\n",
    "model = default_linear()"
   ]
  },
  {
   "cell_type": "code",
   "execution_count": 31,
   "metadata": {},
   "outputs": [
    {
     "name": "stdout",
     "output_type": "stream",
     "text": [
      "Train on 227789 samples, validate on 56948 samples\n",
      "Epoch 1/1\n",
      "227789/227789 [==============================] - 76s 334us/step - loss: 0.0354 - angle_out_loss: 0.0504 - throttle_out_loss: 0.0204 - val_loss: 0.0229 - val_angle_out_loss: 0.0322 - val_throttle_out_loss: 0.0137\n"
     ]
    },
    {
     "data": {
      "text/plain": [
       "<tensorflow.python.keras.callbacks.History at 0x7f9e407d6dd8>"
      ]
     },
     "execution_count": 31,
     "metadata": {},
     "output_type": "execute_result"
    }
   ],
   "source": [
    "model.fit(X, Y, epochs=1, validation_split=.2, batch_size=256)"
   ]
  },
  {
   "cell_type": "code",
   "execution_count": 41,
   "metadata": {},
   "outputs": [],
   "source": [
    "from tensorflow.python.keras.callbacks import ModelCheckpoint, EarlyStopping\n",
    "def train(model, X, Y, saved_model_path, epochs=100, \n",
    "          min_delta=.0005, patience=3, use_early_stop=True):\n",
    "    \n",
    "    # checkpoint to save model after each epoch\n",
    "    save_best = ModelCheckpoint(saved_model_path,\n",
    "                                monitor='val_loss',\n",
    "                                verbose=1,\n",
    "                                save_best_only=True,\n",
    "                                mode='min')\n",
    "\n",
    "    # stop training if the validation error stops improving.\n",
    "    early_stop = EarlyStopping(monitor='val_loss',\n",
    "                               min_delta=min_delta,\n",
    "                               patience=patience,\n",
    "                               verbose=1,\n",
    "                               mode='auto')\n",
    "\n",
    "    callbacks_list = [save_best]\n",
    "\n",
    "    if use_early_stop:\n",
    "        callbacks_list.append(early_stop)\n",
    "\n",
    "    hist = model.fit(\n",
    "        X, Y,\n",
    "        validation_split=.1,\n",
    "        epochs=epochs,\n",
    "        verbose=1,\n",
    "        callbacks=callbacks_list)\n",
    "    return hist"
   ]
  },
  {
   "cell_type": "code",
   "execution_count": 42,
   "metadata": {},
   "outputs": [],
   "source": [
    "model_path = os.path.expanduser('/home/wroscoe/data/base_model.h5')"
   ]
  },
  {
   "cell_type": "code",
   "execution_count": 43,
   "metadata": {},
   "outputs": [
    {
     "name": "stdout",
     "output_type": "stream",
     "text": [
      "Train on 256263 samples, validate on 28474 samples\n",
      "Epoch 1/100\n",
      "256263/256263 [==============================] - 73s 285us/step - loss: 0.0170 - angle_out_loss: 0.0243 - throttle_out_loss: 0.0096 - val_loss: 0.0158 - val_angle_out_loss: 0.0229 - val_throttle_out_loss: 0.0088\n",
      "\n",
      "Epoch 00001: val_loss improved from inf to 0.01584, saving model to /home/wroscoe/data/base_model.h5\n",
      "Epoch 2/100\n",
      "256263/256263 [==============================] - 71s 276us/step - loss: 0.0158 - angle_out_loss: 0.0225 - throttle_out_loss: 0.0092 - val_loss: 0.0166 - val_angle_out_loss: 0.0242 - val_throttle_out_loss: 0.0090\n",
      "\n",
      "Epoch 00002: val_loss did not improve from 0.01584\n",
      "Epoch 3/100\n",
      "256263/256263 [==============================] - 73s 284us/step - loss: 0.0151 - angle_out_loss: 0.0213 - throttle_out_loss: 0.0090 - val_loss: 0.0150 - val_angle_out_loss: 0.0212 - val_throttle_out_loss: 0.0088\n",
      "\n",
      "Epoch 00003: val_loss improved from 0.01584 to 0.01498, saving model to /home/wroscoe/data/base_model.h5\n",
      "Epoch 4/100\n",
      "256263/256263 [==============================] - 73s 283us/step - loss: 0.0146 - angle_out_loss: 0.0204 - throttle_out_loss: 0.0087 - val_loss: 0.0145 - val_angle_out_loss: 0.0207 - val_throttle_out_loss: 0.0084\n",
      "\n",
      "Epoch 00004: val_loss improved from 0.01498 to 0.01455, saving model to /home/wroscoe/data/base_model.h5\n",
      "Epoch 5/100\n",
      "256263/256263 [==============================] - 72s 282us/step - loss: 0.0142 - angle_out_loss: 0.0197 - throttle_out_loss: 0.0086 - val_loss: 0.0140 - val_angle_out_loss: 0.0198 - val_throttle_out_loss: 0.0083\n",
      "\n",
      "Epoch 00005: val_loss improved from 0.01455 to 0.01403, saving model to /home/wroscoe/data/base_model.h5\n",
      "Epoch 6/100\n",
      "256263/256263 [==============================] - 72s 282us/step - loss: 0.0138 - angle_out_loss: 0.0192 - throttle_out_loss: 0.0085 - val_loss: 0.0151 - val_angle_out_loss: 0.0203 - val_throttle_out_loss: 0.0099\n",
      "\n",
      "Epoch 00006: val_loss did not improve from 0.01403\n",
      "Epoch 7/100\n",
      "256263/256263 [==============================] - 72s 279us/step - loss: 0.0136 - angle_out_loss: 0.0188 - throttle_out_loss: 0.0084 - val_loss: 0.0148 - val_angle_out_loss: 0.0209 - val_throttle_out_loss: 0.0086\n",
      "\n",
      "Epoch 00007: val_loss did not improve from 0.01403\n",
      "Epoch 8/100\n",
      "256263/256263 [==============================] - 74s 288us/step - loss: 0.0132 - angle_out_loss: 0.0182 - throttle_out_loss: 0.0083 - val_loss: 0.0132 - val_angle_out_loss: 0.0184 - val_throttle_out_loss: 0.0080\n",
      "\n",
      "Epoch 00008: val_loss improved from 0.01403 to 0.01319, saving model to /home/wroscoe/data/base_model.h5\n",
      "Epoch 9/100\n",
      "256263/256263 [==============================] - 76s 296us/step - loss: 0.0131 - angle_out_loss: 0.0179 - throttle_out_loss: 0.0082 - val_loss: 0.0137 - val_angle_out_loss: 0.0195 - val_throttle_out_loss: 0.0080\n",
      "\n",
      "Epoch 00009: val_loss did not improve from 0.01319\n",
      "Epoch 10/100\n",
      "256263/256263 [==============================] - 77s 299us/step - loss: 0.0129 - angle_out_loss: 0.0176 - throttle_out_loss: 0.0082 - val_loss: 0.0141 - val_angle_out_loss: 0.0197 - val_throttle_out_loss: 0.0084\n",
      "\n",
      "Epoch 00010: val_loss did not improve from 0.01319\n",
      "Epoch 11/100\n",
      "256263/256263 [==============================] - 77s 301us/step - loss: 0.0128 - angle_out_loss: 0.0174 - throttle_out_loss: 0.0082 - val_loss: 0.0133 - val_angle_out_loss: 0.0182 - val_throttle_out_loss: 0.0083\n",
      "\n",
      "Epoch 00011: val_loss did not improve from 0.01319\n",
      "Epoch 00011: early stopping\n"
     ]
    },
    {
     "data": {
      "text/plain": [
       "<tensorflow.python.keras.callbacks.History at 0x7f9b69504320>"
      ]
     },
     "execution_count": 43,
     "metadata": {},
     "output_type": "execute_result"
    }
   ],
   "source": [
    "train(model, X, Y, saved_model_path=model_path)"
   ]
  },
  {
   "cell_type": "markdown",
   "metadata": {},
   "source": [
    "### Test the performance of the base model"
   ]
  },
  {
   "cell_type": "code",
   "execution_count": 74,
   "metadata": {},
   "outputs": [],
   "source": [
    "path = '/home/wroscoe/data/diyrobocar_races/2018-05_san_mateo_maker_faire/tub3'\n",
    "tub = Tub(path)\n",
    "data_dict = next(tub.get_batch_gen(batch_size = len(tub.get_index())))\n",
    "\n",
    "img = data_dict['cam/image_array']\n",
    "ang = data_dict['user/angle']\n",
    "thr = data_dict['user/throttle']"
   ]
  },
  {
   "cell_type": "code",
   "execution_count": 75,
   "metadata": {},
   "outputs": [],
   "source": [
    "model = tf.keras.models.load_model('/home/wroscoe/data/base_model.h5')\n"
   ]
  },
  {
   "cell_type": "code",
   "execution_count": 84,
   "metadata": {},
   "outputs": [
    {
     "data": {
      "text/plain": [
       "(9952,)"
      ]
     },
     "execution_count": 84,
     "metadata": {},
     "output_type": "execute_result"
    }
   ],
   "source": [
    "yp = model.predict(img[500:550])\n",
    "ang.shape"
   ]
  },
  {
   "cell_type": "code",
   "execution_count": 77,
   "metadata": {},
   "outputs": [],
   "source": [
    "%matplotlib inline"
   ]
  },
  {
   "cell_type": "code",
   "execution_count": 78,
   "metadata": {},
   "outputs": [],
   "source": [
    "from matplotlib import pyplot as plt"
   ]
  },
  {
   "cell_type": "code",
   "execution_count": 79,
   "metadata": {},
   "outputs": [
    {
     "data": {
      "text/plain": [
       "(50, 1)"
      ]
     },
     "execution_count": 79,
     "metadata": {},
     "output_type": "execute_result"
    }
   ],
   "source": [
    "yp[0].shape"
   ]
  },
  {
   "cell_type": "code",
   "execution_count": null,
   "metadata": {},
   "outputs": [],
   "source": []
  },
  {
   "cell_type": "code",
   "execution_count": 86,
   "metadata": {},
   "outputs": [
    {
     "data": {
      "text/plain": [
       "[<matplotlib.lines.Line2D at 0x7f9b2705b080>]"
      ]
     },
     "execution_count": 86,
     "metadata": {},
     "output_type": "execute_result"
    },
    {
     "data": {
      "image/png": "[encoded data removed]",
      "text/plain": [
       "<Figure size 432x288 with 1 Axes>"
      ]
     },
     "metadata": {},
     "output_type": "display_data"
    }
   ],
   "source": [
    "plt.plot(yp[0])\n",
    "plt.plot(ang[500:550])"
   ]
  },
  {
   "cell_type": "markdown",
   "metadata": {},
   "source": [
    "### Train for a new track starting with the base model"
   ]
  },
  {
   "cell_type": "code",
   "execution_count": 47,
   "metadata": {},
   "outputs": [
    {
     "data": {
      "text/plain": [
       "(9952, 120, 160, 3)"
      ]
     },
     "execution_count": 47,
     "metadata": {},
     "output_type": "execute_result"
    }
   ],
   "source": [
    "img.shape"
   ]
  },
  {
   "cell_type": "code",
   "execution_count": null,
   "metadata": {},
   "outputs": [],
   "source": []
  }
 ],
 "metadata": {
  "kernelspec": {
   "display_name": "Python 3",
   "language": "python",
   "name": "python3"
  },
  "language_info": {
   "codemirror_mode": {
    "name": "ipython",
    "version": 3
   },
   "file_extension": ".py",
   "mimetype": "text/x-python",
   "name": "python",
   "nbconvert_exporter": "python",
   "pygments_lexer": "ipython3",
   "version": "3.6.5"
  }
 },
 "nbformat": 4,
 "nbformat_minor": 2
}
