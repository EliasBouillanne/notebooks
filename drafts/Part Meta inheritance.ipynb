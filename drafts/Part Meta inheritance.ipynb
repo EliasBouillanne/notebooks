{
 "cells": [
  {
   "cell_type": "markdown",
   "metadata": {},
   "source": [
    "A way to inherit options from parts by specifying the options in a Meta class inside the part."
   ]
  },
  {
   "cell_type": "code",
   "execution_count": 1,
   "metadata": {},
   "outputs": [
    {
     "name": "stdout",
     "output_type": "stream",
     "text": [
      "using donkey v2.5.1 ...\n"
     ]
    }
   ],
   "source": [
    "import logging\n",
    "\n",
    "from donkeycar.log import get_logger\n",
    "logger = get_logger(__name__)\n",
    "logger.setLevel(logging.DEBUG)"
   ]
  },
  {
   "cell_type": "code",
   "execution_count": 2,
   "metadata": {},
   "outputs": [
    {
     "name": "stderr",
     "output_type": "stream",
     "text": [
      "test\n"
     ]
    }
   ],
   "source": [
    "logger.warning('test')\n"
   ]
  },
  {
   "cell_type": "code",
   "execution_count": 40,
   "metadata": {},
   "outputs": [],
   "source": [
    "class PartMeta(type):\n",
    "    \"\"\" metaclass for Parts \"\"\"\n",
    "    def __new__(cls, name, parents, dct):\n",
    "\n",
    "        #set meta vars of parents first\n",
    "        def get_parent_meta(parents, attrs=dict()):\n",
    "            for p in parents:\n",
    "                #print('parrent:', p)\n",
    "                meta = getattr(p, 'Meta', None)\n",
    "                if meta is not None:\n",
    "                    attrs.update(meta.__dict__)\n",
    "                    #print('attrs: ', attrs)\n",
    "                    #print('type p', type(p))\n",
    "                    if len(p.__bases__) > 0:\n",
    "                        attrs = get_parent_meta(p.__bases__, attrs)\n",
    "            return attrs\n",
    "                    \n",
    "        meta = get_parent_meta(parents)\n",
    "                \n",
    "        #override the Meta options with \n",
    "        this_meta = dct.get('Meta', dict())\n",
    "        #print(this_meta)\n",
    "        if this_meta is not None:\n",
    "            meta.update(this_meta.__dict__)\n",
    "            \n",
    "        meta = dict([(k, v) for k,v in meta.items() if not k.startswith('_')])\n",
    "        \n",
    "        \n",
    "        dct['Meta'] = type(\"Meta\", (), meta)\n",
    "        # we need to call type.__new__ to complete the initialization\n",
    "        return super(PartMeta, cls).__new__(cls, name, parents, dct)\n",
    "    \n",
    "    def __init__(cls, name, parents, dct):\n",
    "        cls.options = dict([(k, v) for k,v in cls.Meta.__dict__.items() if not k.startswith('_')])\n",
    "        print('cls.options: ', cls.options)"
   ]
  },
  {
   "cell_type": "code",
   "execution_count": 41,
   "metadata": {},
   "outputs": [
    {
     "name": "stdout",
     "output_type": "stream",
     "text": [
      "cls.options:  {}\n",
      "<class '__main__.Meta'>\n"
     ]
    }
   ],
   "source": [
    "class Part(object, metaclass=PartMeta):\n",
    "    class Meta:\n",
    "        pass\n",
    "    \n",
    "    def __init__(self, *args, **kwargs):\n",
    "        print(self.options)\n",
    "        print('Part loaded')\n",
    "        self.options.update(**kwargs)\n",
    "        print(kwargs)\n",
    "        \n",
    "\n",
    "        \n",
    "print(Part.Meta)"
   ]
  },
  {
   "cell_type": "code",
   "execution_count": null,
   "metadata": {},
   "outputs": [],
   "source": []
  },
  {
   "cell_type": "code",
   "execution_count": 42,
   "metadata": {},
   "outputs": [
    {
     "name": "stdout",
     "output_type": "stream",
     "text": [
      "cls.options:  {'X': 1, 'p1': True}\n",
      "<class '__main__.Meta'>\n"
     ]
    }
   ],
   "source": [
    "class P1(Part):\n",
    "    class Meta:\n",
    "        X = 1\n",
    "        p1 = True\n",
    "print(P1.Meta)"
   ]
  },
  {
   "cell_type": "code",
   "execution_count": 51,
   "metadata": {},
   "outputs": [
    {
     "name": "stdout",
     "output_type": "stream",
     "text": [
      "cls.options:  {'X': 2, 'p1': True, 'p2': True}\n",
      "{'X': 2, 'p1': True, 'p2': True, '__module__': '__main__', '__dict__': <attribute '__dict__' of 'Meta' objects>, '__weakref__': <attribute '__weakref__' of 'Meta' objects>, '__doc__': None}\n"
     ]
    }
   ],
   "source": [
    "class P2(P1):\n",
    "    class Meta:\n",
    "        X = 2\n",
    "        p2 = True\n",
    "        \n",
    "    def __init__(self):\n",
    "        p2 = self.options.get('p2')\n",
    "        \n",
    "print(P2.Meta.__dict__)\n"
   ]
  },
  {
   "cell_type": "code",
   "execution_count": 52,
   "metadata": {},
   "outputs": [],
   "source": [
    "p = P2()"
   ]
  },
  {
   "cell_type": "code",
   "execution_count": 53,
   "metadata": {},
   "outputs": [
    {
     "data": {
      "text/plain": [
       "{'X': 2, 'p1': True, 'p2': True}"
      ]
     },
     "execution_count": 53,
     "metadata": {},
     "output_type": "execute_result"
    }
   ],
   "source": [
    "p.options"
   ]
  },
  {
   "cell_type": "code",
   "execution_count": 55,
   "metadata": {},
   "outputs": [
    {
     "data": {
      "text/plain": [
       "mappingproxy({'X': 2,\n",
       "              'p1': True,\n",
       "              'p2': True,\n",
       "              '__module__': '__main__',\n",
       "              '__dict__': <attribute '__dict__' of 'Meta' objects>,\n",
       "              '__weakref__': <attribute '__weakref__' of 'Meta' objects>,\n",
       "              '__doc__': None})"
      ]
     },
     "execution_count": 55,
     "metadata": {},
     "output_type": "execute_result"
    }
   ],
   "source": [
    "p.Meta.__dict__"
   ]
  },
  {
   "cell_type": "code",
   "execution_count": 7,
   "metadata": {},
   "outputs": [
    {
     "name": "stdout",
     "output_type": "stream",
     "text": [
      "{'X': 2, 'p1': True, 'p2': True}\n",
      "Part loaded\n",
      "{'max': 123123}\n"
     ]
    },
    {
     "data": {
      "text/plain": [
       "{'X': 2, 'p1': True, 'p2': True, 'max': 123123}"
      ]
     },
     "execution_count": 7,
     "metadata": {},
     "output_type": "execute_result"
    }
   ],
   "source": [
    "p2 = P2(max=123123)\n",
    "p2.options"
   ]
  },
  {
   "cell_type": "code",
   "execution_count": 8,
   "metadata": {},
   "outputs": [
    {
     "data": {
      "text/plain": [
       "{'X': 2, 'p1': True, 'p2': True, 'max': 123123}"
      ]
     },
     "execution_count": 8,
     "metadata": {},
     "output_type": "execute_result"
    }
   ],
   "source": [
    "p2.options"
   ]
  },
  {
   "cell_type": "code",
   "execution_count": 9,
   "metadata": {},
   "outputs": [],
   "source": [
    "config_example = \\\n",
    "{\n",
    "    'parts': [\n",
    "        {'path':'donkeycar.parts.clock.Timestamp',\n",
    "        }\n",
    "    ]\n",
    "}"
   ]
  },
  {
   "cell_type": "code",
   "execution_count": 10,
   "metadata": {},
   "outputs": [],
   "source": [
    "def import_class(cl):\n",
    "    d = cl.rfind(\".\")\n",
    "    classname = cl[d+1:len(cl)]\n",
    "    mod_name = cl[0:d]\n",
    "    print('{}, {}'.format(classname, mod_name))\n",
    "    m = __import__(mod_name, globals(), locals(), [classname])\n",
    "    return getattr(m, classname)"
   ]
  },
  {
   "cell_type": "code",
   "execution_count": 13,
   "metadata": {},
   "outputs": [],
   "source": [
    "class PartManager:\n",
    "    def __init__(self, ):\n",
    "        self.parts = []\n",
    "    \n",
    "    def load_config(self, config_dict):\n",
    "        parts_config = config_dict.get('parts', {})\n",
    "        for d in parts_config:\n",
    "            print(d)\n",
    "            part = self.load_part(d.get('path'), options_dict=d.get('options', {}) )\n",
    "            self.parts.append(part)\n",
    "    \n",
    "    def load_part(self, part_string, options_dict=dict()):\n",
    "        #print(options_dict)\n",
    "        part_class = import_class(part_string)\n",
    "        part_instance = part_class(**options_dict)\n",
    "        return part_instance\n",
    "    \n",
    "    def run_active_parts(self):\n",
    "        pass\n",
    "    \n",
    "    def activate_part(self, part):\n",
    "        pass\n",
    "    \n",
    "\n",
    "    "
   ]
  },
  {
   "cell_type": "code",
   "execution_count": 14,
   "metadata": {},
   "outputs": [
    {
     "name": "stdout",
     "output_type": "stream",
     "text": [
      "{'path': 'donkeycar.parts.clock.Timestamp'}\n",
      "Timestamp, donkeycar.parts.clock\n"
     ]
    }
   ],
   "source": [
    "pl = PartManager()\n",
    "#pt = pl.load_part('donkeycar.parts.clock.Timestamp')\n",
    "pl.load_config(config_example)"
   ]
  },
  {
   "cell_type": "code",
   "execution_count": 15,
   "metadata": {
    "scrolled": true
   },
   "outputs": [
    {
     "data": {
      "text/plain": [
       "[<donkeycar.parts.clock.Timestamp at 0x7fafeac767b8>]"
      ]
     },
     "execution_count": 15,
     "metadata": {},
     "output_type": "execute_result"
    }
   ],
   "source": [
    "pl.parts"
   ]
  },
  {
   "cell_type": "code",
   "execution_count": 17,
   "metadata": {},
   "outputs": [],
   "source": [
    "from tensorflow.keras.layers import Input, Dense\n",
    "from tensorflow.keras.models import Model\n",
    "\n",
    "# This returns a tensor\n",
    "inputs = Input(shape=(1,))\n",
    "\n",
    "# a layer instance is callable on a tensor, and returns a tensor\n",
    "x = Dense(64, activation='relu')(inputs)\n",
    "x = Dense(64, activation='relu')(x)\n",
    "predictions = Dense(10, activation='softmax')(x)\n",
    "\n",
    "# This creates a model that includes\n",
    "# the Input layer and three Dense layers\n",
    "model = Model(inputs=inputs, outputs=predictions)"
   ]
  },
  {
   "cell_type": "code",
   "execution_count": 18,
   "metadata": {},
   "outputs": [
    {
     "data": {
      "text/plain": [
       "array([[0.05832965, 0.07807902, 0.10276888, 0.06221944, 0.1308823 ,\n",
       "        0.1193485 , 0.12378903, 0.09922621, 0.09842636, 0.12693061]],\n",
       "      dtype=float32)"
      ]
     },
     "execution_count": 18,
     "metadata": {},
     "output_type": "execute_result"
    }
   ],
   "source": [
    "model.predict([3])"
   ]
  },
  {
   "cell_type": "code",
   "execution_count": 63,
   "metadata": {},
   "outputs": [],
   "source": [
    "import os\n",
    "mpath = os.path.expanduser('~/test_save.h5')\n",
    "model.save(mpath)\n",
    "m2 = keras.models.load_model(mpath)"
   ]
  },
  {
   "cell_type": "code",
   "execution_count": 64,
   "metadata": {},
   "outputs": [],
   "source": [
    "from tensorflow import keras"
   ]
  },
  {
   "cell_type": "code",
   "execution_count": 66,
   "metadata": {},
   "outputs": [
    {
     "name": "stdout",
     "output_type": "stream",
     "text": [
      "WARNING:tensorflow:No training configuration found in save file: the model was *not* compiled. Compile it manually.\n"
     ]
    }
   ],
   "source": [
    "\n"
   ]
  },
  {
   "cell_type": "code",
   "execution_count": 67,
   "metadata": {},
   "outputs": [
    {
     "data": {
      "text/plain": [
       "array([[0.0936005 , 0.131739  , 0.05327277, 0.10235716, 0.08597475,\n",
       "        0.07081458, 0.08201193, 0.07746188, 0.07892269, 0.22384475]],\n",
       "      dtype=float32)"
      ]
     },
     "execution_count": 67,
     "metadata": {},
     "output_type": "execute_result"
    }
   ],
   "source": [
    "m2.predict([3])"
   ]
  },
  {
   "cell_type": "code",
   "execution_count": null,
   "metadata": {},
   "outputs": [],
   "source": []
  }
 ],
 "metadata": {
  "kernelspec": {
   "display_name": "Python 3",
   "language": "python",
   "name": "python3"
  },
  "language_info": {
   "codemirror_mode": {
    "name": "ipython",
    "version": 3
   },
   "file_extension": ".py",
   "mimetype": "text/x-python",
   "name": "python",
   "nbconvert_exporter": "python",
   "pygments_lexer": "ipython3",
   "version": "3.6.5"
  }
 },
 "nbformat": 4,
 "nbformat_minor": 2
}
